{
 "cells": [
  {
   "cell_type": "code",
   "execution_count": 105,
   "metadata": {
    "collapsed": true
   },
   "outputs": [],
   "source": [
    "import numpy as np\n",
    "import pandas as pd\n",
    "import matplotlib.pyplot as plt\n",
    "%matplotlib inline"
   ]
  },
  {
   "cell_type": "code",
   "execution_count": 100,
   "metadata": {},
   "outputs": [],
   "source": [
    "size_data_set=100000\n",
    "batch_generate = 100\n",
    "radius = 5\n",
    "h = 10\n",
    "k = 10\n",
    "df = pd.DataFrame([])\n",
    "for i in range(int(size_data_set/batch_generate)):\n",
    "    x = np.random.randint(5,16,size=batch_generate);\n",
    "    y = np.sqrt(np.square(radius) - np.square(x - h)) + k\n",
    "    x = x + np.random.randint(-4,5,size=batch_generate)\n",
    "    y = y + np.random.randint(-4,5,size=batch_generate)\n",
    "    c = []\n",
    "    for j in range(x.size):\n",
    "        f = (x[j] - h)**2 + (y[j] - k)**2 - radius**2\n",
    "        if(f > 0):\n",
    "            c.append(1)\n",
    "        else:\n",
    "            c.append(0)\n",
    "    c = np.array(c)\n",
    "    x.reshape(-1,1)\n",
    "    y.reshape(-1,1)\n",
    "    c.reshape(-1,1)\n",
    "    df_temp = pd.DataFrame({'x':x,'y':y,'c':c})\n",
    "    df = df.append(df_temp,ignore_index=True)\n",
    "df.to_csv('data.csv',index=False)\n",
    "        "
   ]
  },
  {
   "cell_type": "code",
   "execution_count": 107,
   "metadata": {},
   "outputs": [],
   "source": [
    "df = pd.read_csv('data.csv')"
   ]
  },
  {
   "cell_type": "code",
   "execution_count": 111,
   "metadata": {},
   "outputs": [],
   "source": [
    "df1 = df.head(10)"
   ]
  },
  {
   "cell_type": "code",
   "execution_count": 117,
   "metadata": {},
   "outputs": [
    {
     "data": {
      "text/plain": [
       "<matplotlib.collections.PathCollection at 0x7ff1ba618ac8>"
      ]
     },
     "execution_count": 117,
     "metadata": {},
     "output_type": "execute_result"
    },
    {
     "data": {
      "image/png": "[encoded data removed]",
      "text/plain": [
       "<matplotlib.figure.Figure at 0x7ff1ba6d91d0>"
      ]
     },
     "metadata": {},
     "output_type": "display_data"
    }
   ],
   "source": [
    "for _ in range(df.shape[0])"
   ]
  },
  {
   "cell_type": "code",
   "execution_count": null,
   "metadata": {
    "collapsed": true
   },
   "outputs": [],
   "source": []
  }
 ],
 "metadata": {
  "kernelspec": {
   "display_name": "Python 3",
   "language": "python",
   "name": "python3"
  },
  "language_info": {
   "codemirror_mode": {
    "name": "ipython",
    "version": 3
   },
   "file_extension": ".py",
   "mimetype": "text/x-python",
   "name": "python",
   "nbconvert_exporter": "python",
   "pygments_lexer": "ipython3",
   "version": "3.5.4"
  }
 },
 "nbformat": 4,
 "nbformat_minor": 2
}
